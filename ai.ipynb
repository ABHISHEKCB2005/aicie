{
 "cells": [
  {
   "cell_type": "code",
   "execution_count": 28,
   "id": "3dee2a97-935f-47bc-9631-c726cd160b88",
   "metadata": {},
   "outputs": [
    {
     "name": "stderr",
     "output_type": "stream",
     "text": [
      "<>:2: SyntaxWarning: list indices must be integers or slices, not float; perhaps you missed a comma?\n",
      "<>:3: SyntaxWarning: list indices must be integers or slices, not float; perhaps you missed a comma?\n",
      "<>:2: SyntaxWarning: list indices must be integers or slices, not float; perhaps you missed a comma?\n",
      "<>:3: SyntaxWarning: list indices must be integers or slices, not float; perhaps you missed a comma?\n",
      "C:\\Users\\abhishek\\AppData\\Local\\Temp\\ipykernel_11344\\3975925391.py:2: SyntaxWarning: list indices must be integers or slices, not float; perhaps you missed a comma?\n",
      "  arr=np.array([3.5][8.10])\n",
      "C:\\Users\\abhishek\\AppData\\Local\\Temp\\ipykernel_11344\\3975925391.py:2: SyntaxWarning: list indices must be integers or slices, not float; perhaps you missed a comma?\n",
      "  arr=np.array([3.5][8.10])\n",
      "C:\\Users\\abhishek\\AppData\\Local\\Temp\\ipykernel_11344\\3975925391.py:2: SyntaxWarning: list indices must be integers or slices, not float; perhaps you missed a comma?\n",
      "  arr=np.array([3.5][8.10])\n",
      "C:\\Users\\abhishek\\AppData\\Local\\Temp\\ipykernel_11344\\3975925391.py:2: SyntaxWarning: list indices must be integers or slices, not float; perhaps you missed a comma?\n",
      "  arr=np.array([3.5][8.10])\n",
      "C:\\Users\\abhishek\\AppData\\Local\\Temp\\ipykernel_11344\\3975925391.py:2: SyntaxWarning: list indices must be integers or slices, not float; perhaps you missed a comma?\n",
      "  arr=np.array([3.5][8.10])\n"
     ]
    },
    {
     "ename": "TypeError",
     "evalue": "list indices must be integers or slices, not float",
     "output_type": "error",
     "traceback": [
      "\u001b[1;31m---------------------------------------------------------------------------\u001b[0m",
      "\u001b[1;31mTypeError\u001b[0m                                 Traceback (most recent call last)",
      "Cell \u001b[1;32mIn[28], line 2\u001b[0m\n\u001b[0;32m      1\u001b[0m \u001b[38;5;28;01mimport\u001b[39;00m \u001b[38;5;21;01mnumpy\u001b[39;00m \u001b[38;5;28;01mas\u001b[39;00m \u001b[38;5;21;01mnp\u001b[39;00m\n\u001b[1;32m----> 2\u001b[0m arr\u001b[38;5;241m=\u001b[39mnp\u001b[38;5;241m.\u001b[39marray([\u001b[38;5;241m3.5\u001b[39m][\u001b[38;5;241m8.10\u001b[39m])\n\u001b[0;32m      3\u001b[0m arr1\u001b[38;5;241m=\u001b[39mnp\u001b[38;5;241m.\u001b[39marray([\u001b[38;5;241m12\u001b[39m,\u001b[38;5;241m14\u001b[39m][\u001b[38;5;241m6.7\u001b[39m])\n\u001b[0;32m      4\u001b[0m con\u001b[38;5;241m=\u001b[39mnp\u001b[38;5;241m.\u001b[39mconcanated(arr,arr1)\n",
      "\u001b[1;31mTypeError\u001b[0m: list indices must be integers or slices, not float"
     ]
    }
   ],
   "source": [
    "import numpy as np\n",
    "arr=np.array([3.5][8.10])\n",
    "arr1=np.array([12,14][6.7])\n",
    "con=np.concanated(arr,arr1)\n",
    "print(con)"
   ]
  },
  {
   "cell_type": "code",
   "execution_count": 44,
   "id": "4c0f9fbe-5cf7-487d-ba01-59e6b7b7b30c",
   "metadata": {},
   "outputs": [
    {
     "name": "stdout",
     "output_type": "stream",
     "text": [
      "concatenate with axis\n",
      "[[ 3  5]\n",
      " [ 7  9]\n",
      " [12 14]\n",
      " [ 6  7]]\n"
     ]
    }
   ],
   "source": [
    "import numpy as np\n",
    "arr=np.array([[3,5],[7,9]])\n",
    "arr1=np.array([[12,14],[6,7]])\n",
    "con=np.concatenate((arr,arr1),axis=0)\n",
    "print('concatenate with axis')\n",
    "print(con)"
   ]
  },
  {
   "cell_type": "code",
   "execution_count": 48,
   "id": "599b9e2d-20b6-4030-83ef-c6deefab4db8",
   "metadata": {},
   "outputs": [
    {
     "name": "stdout",
     "output_type": "stream",
     "text": [
      "rever of the data: [12 39]\n"
     ]
    }
   ],
   "source": [
    "import numpy as np\n",
    "arr=np.array([1,2,9,6,15,19,78,34,42,56,7,78,59,39,12,14,23])\n",
    "res=np.flip(arr[-4:-2])\n",
    "print('rever of the data:',res)"
   ]
  },
  {
   "cell_type": "code",
   "execution_count": null,
   "id": "e2f21b70-55e7-418c-9d5b-fb07b52b238d",
   "metadata": {},
   "outputs": [],
   "source": []
  }
 ],
 "metadata": {
  "kernelspec": {
   "display_name": "Python 3 (ipykernel)",
   "language": "python",
   "name": "python3"
  },
  "language_info": {
   "codemirror_mode": {
    "name": "ipython",
    "version": 3
   },
   "file_extension": ".py",
   "mimetype": "text/x-python",
   "name": "python",
   "nbconvert_exporter": "python",
   "pygments_lexer": "ipython3",
   "version": "3.12.4"
  }
 },
 "nbformat": 4,
 "nbformat_minor": 5
}
