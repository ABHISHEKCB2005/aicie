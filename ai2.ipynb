{
 "cells": [
  {
   "cell_type": "code",
   "execution_count": 44,
   "id": "4c0f9fbe-5cf7-487d-ba01-59e6b7b7b30c",
   "metadata": {},
   "outputs": [
    {
     "name": "stdout",
     "output_type": "stream",
     "text": [
      "concatenate with axis\n",
      "[[ 3  5]\n",
      " [ 7  9]\n",
      " [12 14]\n",
      " [ 6  7]]\n"
     ]
    }
   ],
   "source": [
    "import numpy as np\n",
    "arr=np.array([[3,5],[7,9]])\n",
    "arr1=np.array([[12,14],[6,7]])\n",
    "con=np.concatenate((arr,arr1),axis=0)\n",
    "print('concatenate with axis')\n",
    "print(con)"
   ]
  },
  {
   "cell_type": "code",
   "execution_count": 48,
   "id": "599b9e2d-20b6-4030-83ef-c6deefab4db8",
   "metadata": {},
   "outputs": [
    {
     "name": "stdout",
     "output_type": "stream",
     "text": [
      "rever of the data: [12 39]\n"
     ]
    }
   ],
   "source": [
    "import numpy as np\n",
    "arr=np.array([1,2,9,6,15,19,78,34,42,56,7,78,59,39,12,14,23])\n",
    "res=np.flip(arr[-4:-2])\n",
    "print('rever of the data:',res)"
   ]
  },
  {
   "cell_type": "code",
   "execution_count": null,
   "id": "e2f21b70-55e7-418c-9d5b-fb07b52b238d",
   "metadata": {},
   "outputs": [],
   "source": []
  }
 ],
 "metadata": {
  "kernelspec": {
   "display_name": "Python 3 (ipykernel)",
   "language": "python",
   "name": "python3"
  },
  "language_info": {
   "codemirror_mode": {
    "name": "ipython",
    "version": 3
   },
   "file_extension": ".py",
   "mimetype": "text/x-python",
   "name": "python",
   "nbconvert_exporter": "python",
   "pygments_lexer": "ipython3",
   "version": "3.12.4"
  }
 },
 "nbformat": 4,
 "nbformat_minor": 5
}
